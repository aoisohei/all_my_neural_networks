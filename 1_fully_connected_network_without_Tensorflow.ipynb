{
  "nbformat": 4,
  "nbformat_minor": 0,
  "metadata": {
    "colab": {
      "name": "1. fully connected network without Tensorflow.ipynb",
      "provenance": [],
      "toc_visible": true,
      "authorship_tag": "ABX9TyMnyV3USQ079yrNpwl+8UV0",
      "include_colab_link": true
    },
    "kernelspec": {
      "name": "python3",
      "display_name": "Python 3"
    }
  },
  "cells": [
    {
      "cell_type": "markdown",
      "metadata": {
        "id": "view-in-github",
        "colab_type": "text"
      },
      "source": [
        "<a href=\"https://colab.research.google.com/github/aoisohei/all_types_neural_networks/blob/main/1_fully_connected_network_without_Tensorflow.ipynb\" target=\"_parent\"><img src=\"https://colab.research.google.com/assets/colab-badge.svg\" alt=\"Open In Colab\"/></a>"
      ]
    },
    {
      "cell_type": "markdown",
      "metadata": {
        "id": "l-BBV6OO0RC7"
      },
      "source": [
        "# Reconnaisances des chiffres\n",
        " *`1. Un réseau profond entièrement connecté without Tensorflow`*\n",
        "\n",
        " *`2. Neural network diagram :`*\n",
        "\n",
        "![](https://i.imgur.com/rIz9ceU.png)\n",
        "\n",
        " *`3. Other :`*\n",
        "\n",
        "class ........... in machine learning, a category in a classification problem is called a class.\n",
        "\n",
        "samples ...... les donées d'entréé. \n",
        "\n",
        "label ............ the class associated with a specific sample is called a label.\n",
        " "
      ]
    },
    {
      "cell_type": "code",
      "metadata": {
        "id": "NQZeRKw3xqgO",
        "outputId": "1fef034c-ee96-45d7-de97-a62879dae277",
        "colab": {
          "base_uri": "https://localhost:8080/"
        }
      },
      "source": [
        "# connect à la bibliothèque keras et charge 'train_images' et 'test_images'\n",
        "# train_images, train_labels = 80% train data, training set\n",
        "# test_images, test_labels   = 20% test data,  test set\n",
        "\n",
        "from keras.datasets import mnist\n",
        "(train_images, train_labels), (test_images, test_labels) = mnist.load_data()"
      ],
      "execution_count": 1,
      "outputs": [
        {
          "output_type": "stream",
          "text": [
            "Downloading data from https://storage.googleapis.com/tensorflow/tf-keras-datasets/mnist.npz\n",
            "11493376/11490434 [==============================] - 0s 0us/step\n"
          ],
          "name": "stdout"
        }
      ]
    },
    {
      "cell_type": "code",
      "metadata": {
        "id": "FQ-DyXTUyDGa"
      },
      "source": [
        " # Les images - sont codées comme la massive Numpy\n",
        " # Labels     - are an array of digits, ranging from 0 to 9"
      ],
      "execution_count": 2,
      "outputs": []
    },
    {
      "cell_type": "code",
      "metadata": {
        "id": "IWSHyPQW2O1x",
        "outputId": "65656136-2c31-4d18-9fee-15ec64c884da",
        "colab": {
          "base_uri": "https://localhost:8080/"
        }
      },
      "source": [
        "#  look at the training data et train_images comporte 60000 images\n",
        "train_images.shape"
      ],
      "execution_count": 4,
      "outputs": [
        {
          "output_type": "execute_result",
          "data": {
            "text/plain": [
              "(60000, 28, 28)"
            ]
          },
          "metadata": {
            "tags": []
          },
          "execution_count": 4
        }
      ]
    },
    {
      "cell_type": "code",
      "metadata": {
        "id": "v_azWaYhLlwY",
        "outputId": "9ae0a944-6087-4989-f995-2a083c90ea6b",
        "colab": {
          "base_uri": "https://localhost:8080/"
        }
      },
      "source": [
        "# montre ce que nous voudrions reconaitre sur l'image à savoir 0, 1, 2, 3 etc. train_labels comporte 60000 images aussi\n",
        "len(train_labels)"
      ],
      "execution_count": 5,
      "outputs": [
        {
          "output_type": "execute_result",
          "data": {
            "text/plain": [
              "60000"
            ]
          },
          "metadata": {
            "tags": []
          },
          "execution_count": 5
        }
      ]
    },
    {
      "cell_type": "code",
      "metadata": {
        "id": "ShfLvI-aLvqy",
        "outputId": "19d5999a-e497-4662-ad54-6009a634da5d",
        "colab": {
          "base_uri": "https://localhost:8080/"
        }
      },
      "source": [
        "# array([5, 0, 4, ..., 5, 6, 8] montre que 1-ière image est 5, 2-ime est 0, etc.\n",
        "train_labels"
      ],
      "execution_count": 6,
      "outputs": [
        {
          "output_type": "execute_result",
          "data": {
            "text/plain": [
              "array([5, 0, 4, ..., 5, 6, 8], dtype=uint8)"
            ]
          },
          "metadata": {
            "tags": []
          },
          "execution_count": 6
        }
      ]
    },
    {
      "cell_type": "code",
      "metadata": {
        "id": "F94crkIRMXd5",
        "outputId": "b2ca91c2-faf6-42dd-8f39-3406a7941a4c",
        "colab": {
          "base_uri": "https://localhost:8080/"
        }
      },
      "source": [
        "print(test_images.shape, \" - les image dans le test set, chaque image est 28x28 : \")\n",
        "print()\n",
        "print()\n",
        "print(test_labels, \" - montre que 1-ière image est 7, 2-ime est 2, etc. :\") \n",
        "print() \n",
        "print()\n",
        "print(\"Total dans test set il y a\", len(test_labels), \"labels\") "
      ],
      "execution_count": 12,
      "outputs": [
        {
          "output_type": "stream",
          "text": [
            "(10000, 28, 28)  - les image dans le test set, chaque image est 28x28 : \n",
            "\n",
            "\n",
            "[7 2 1 ... 4 5 6]  - montre que 1-ière image est 7, 2-ime est 2, etc. :\n",
            "\n",
            "\n",
            "Total dans test set il y a 10000 labels\n"
          ],
          "name": "stdout"
        }
      ]
    },
    {
      "cell_type": "code",
      "metadata": {
        "id": "ahsX9FnoOUxQ"
      },
      "source": [
        "# then learn network to associate images and labels"
      ],
      "execution_count": null,
      "outputs": []
    },
    {
      "cell_type": "code",
      "metadata": {
        "id": "k7_vdyyTOcN8"
      },
      "source": [
        "# clasifier test_images "
      ],
      "execution_count": null,
      "outputs": []
    },
    {
      "cell_type": "code",
      "metadata": {
        "id": "sx_ap6hlOstE"
      },
      "source": [
        "# verify accarancy of clasification of these labels "
      ],
      "execution_count": null,
      "outputs": []
    },
    {
      "cell_type": "markdown",
      "metadata": {
        "id": "bIp7CdKxdXZO"
      },
      "source": [
        "# Build the network"
      ]
    },
    {
      "cell_type": "code",
      "metadata": {
        "id": "XGpMqtHTQeBI"
      },
      "source": [
        "# build the network\n",
        "\n",
        "from keras import models\n",
        "from keras import layers\n",
        "\n",
        "network = models.Sequential()\n"
      ],
      "execution_count": 15,
      "outputs": []
    },
    {
      "cell_type": "markdown",
      "metadata": {
        "id": "BAP7F4L4cs6s"
      },
      "source": [
        "# Layers\n",
        "\n",
        "Deep learning consists of chaining together simple layers that will\n",
        "implement a form of progressive data distillation. A deep-learning\n",
        "model is like a sieve for data processing, made of a succession of\n",
        "increasingly refined data filters—the layers\n",
        "\n",
        "Фактически методика глубокого обучения заключается в объединении простых слоев, \n",
        "реализующих некоторую форму поэтапной очистки данных. \n",
        "Модель глубокого обучения можно сравнить с ситом, \n",
        "состоящим из последовательности фильтров все более тонкой\n",
        "очистки данных — слоев"
      ]
    },
    {
      "cell_type": "code",
      "metadata": {
        "id": "T7sUcuGyUC-V"
      },
      "source": [
        "# Layers :\n",
        "\n",
        "network.add(layers.Dense(512, activation='relu', input_shape=(28 * 28,)))\n",
        "network.add(layers.Dense(10, activation='softmax')) \n",
        "\n",
        "# network consists of a sequence of two densely connected (also called fully connected) neural layers\n",
        "\n",
        "# - 2th layer layer is a 10-way softmax layer, which means it will\n",
        "# return an array of 10 probability scores (summing to 1). \n",
        "# Each score will verify ther ownership current image to one of 10 classes of numbers "
      ],
      "execution_count": 16,
      "outputs": []
    },
    {
      "cell_type": "markdown",
      "metadata": {
        "id": "SCZPSOmMa5cP"
      },
      "source": [
        "# Make(prepare) the network ready for training need to create :\n",
        "\n",
        "\n",
        "1.   loss function\n",
        "2.   optimizer\n",
        "3.   metrics to monitor during training and testing\n",
        "\n",
        ".\n",
        "\n",
        "### **loss function**\n",
        "\n",
        "— How the network will be able to measure its\n",
        "\n",
        "performance on the training data, and thus how it will be able to\n",
        "\n",
        "steer itself in the right direction\n",
        "\n",
        ".\n",
        "\n",
        "### **optimizer**\n",
        "\n",
        "— The mechanism through which the network will\n",
        "\n",
        "update itself based on the data it sees and its loss function.\n",
        "\n",
        ".\n",
        "\n",
        "### **metrics to monitor during training and testing**\n",
        "\n",
        "— how many of those images that we classified correctly (out of the total)"
      ]
    },
    {
      "cell_type": "code",
      "metadata": {
        "id": "iXSq2uz2VGP8"
      },
      "source": [
        "# prepare the network ready for training :\n",
        "\n",
        "network.compile(optimizer='rmsprop',\n",
        " loss='categorical_crossentropy',\n",
        " metrics=['accuracy'])"
      ],
      "execution_count": 18,
      "outputs": []
    },
    {
      "cell_type": "markdown",
      "metadata": {
        "id": "_POWAmETg0Pf"
      },
      "source": [
        "# Preprocess\n",
        "\n",
        "Before training, we’ll preprocess the data by reshaping it into the shape\n",
        "the network expects and scaling it so that all values are in the [0, 1]\n",
        "interval. Previously, our training images, for instance, were stored in an\n",
        "array of shape (60000, 28, 28) of type uint8 with values in the \n",
        "[0, 255] interval. We transform it into a float32 array of shape\n",
        "(60000, 28 * 28) with values between 0 and 1.\n",
        "\n",
        "***\n",
        "\n",
        "Перед обучением мы выполним предварительную обработку данных, преобразовав\n",
        "их в форму, которую ожидает получить нейронная сеть, и масштабируем их так,\n",
        "чтобы все значения оказались в интервале [0, 1]. Исходные данные — обучающие изображения — хранятся в трехмерном массиве (60000, 28, 28) типа uint8,\n",
        "значениями в котором являются числа в интервале [0, 255]. Мы преобразуем его\n",
        "в массив (60000, 28 * 28) типа float32 со значениями в интервале [0, 1]"
      ]
    },
    {
      "cell_type": "code",
      "metadata": {
        "id": "-8LDSFPyksru"
      },
      "source": [
        "# preparing the image data\n",
        "\n",
        "train_images = train_images.reshape((60000, 28 * 28))\n",
        "train_images = train_images.astype('float32') / 255\n",
        "\n",
        "test_images = test_images.reshape((10000, 28 * 28))\n",
        "test_images = test_images.astype('float32') / 255 "
      ],
      "execution_count": 19,
      "outputs": []
    },
    {
      "cell_type": "markdown",
      "metadata": {
        "id": "b4vpGsnFngQM"
      },
      "source": [
        "# Preparing the labels by category"
      ]
    },
    {
      "cell_type": "code",
      "metadata": {
        "id": "d85DsKAansLU"
      },
      "source": [
        "# preparing the labels by category\n",
        "\n",
        "from keras.utils import to_categorical\n",
        "train_labels = to_categorical(train_labels)\n",
        "test_labels = to_categorical(test_labels)"
      ],
      "execution_count": 20,
      "outputs": []
    },
    {
      "cell_type": "markdown",
      "metadata": {
        "id": "lzUqxzyEn0-j"
      },
      "source": [
        "# Train the network\n"
      ]
    },
    {
      "cell_type": "code",
      "metadata": {
        "id": "XEx35Bc8n1ew",
        "outputId": "c67adcfa-3414-4771-bee3-deb2db1141ef",
        "colab": {
          "base_uri": "https://localhost:8080/"
        }
      },
      "source": [
        "# train the network\n",
        "\n",
        "network.fit(train_images, train_labels, epochs=5, batch_size=128)"
      ],
      "execution_count": 21,
      "outputs": [
        {
          "output_type": "stream",
          "text": [
            "Epoch 1/5\n",
            "469/469 [==============================] - 4s 8ms/step - loss: 0.2543 - accuracy: 0.9269\n",
            "Epoch 2/5\n",
            "469/469 [==============================] - 4s 8ms/step - loss: 0.1025 - accuracy: 0.9696\n",
            "Epoch 3/5\n",
            "469/469 [==============================] - 4s 8ms/step - loss: 0.0676 - accuracy: 0.9803\n",
            "Epoch 4/5\n",
            "469/469 [==============================] - 4s 8ms/step - loss: 0.0489 - accuracy: 0.9854\n",
            "Epoch 5/5\n",
            "469/469 [==============================] - 4s 7ms/step - loss: 0.0373 - accuracy: 0.9887\n"
          ],
          "name": "stdout"
        },
        {
          "output_type": "execute_result",
          "data": {
            "text/plain": [
              "<tensorflow.python.keras.callbacks.History at 0x7f6e0a656fd0>"
            ]
          },
          "metadata": {
            "tags": []
          },
          "execution_count": 21
        }
      ]
    },
    {
      "cell_type": "code",
      "metadata": {
        "id": "UZtcXjixobog"
      },
      "source": [
        "# Two quantities are displayed during training :\n",
        "# 1 - the loss of the network over the training data, \n",
        "# 2 - the accuracy of the network over the training data."
      ],
      "execution_count": null,
      "outputs": []
    },
    {
      "cell_type": "markdown",
      "metadata": {
        "id": "KUNID1mboHd_"
      },
      "source": [
        " # Check that the model performs well on the test set"
      ]
    },
    {
      "cell_type": "code",
      "metadata": {
        "id": "jprtXDnFo6Fy",
        "outputId": "45170e3b-d186-4e4c-f3c0-f3cd33cf98ef",
        "colab": {
          "base_uri": "https://localhost:8080/"
        }
      },
      "source": [
        " # check that the model performs well on the test set\n",
        "\n",
        "test_loss, test_acc = network.evaluate(test_images, test_labels)\n",
        "print('test_acc:', test_acc)"
      ],
      "execution_count": 22,
      "outputs": [
        {
          "output_type": "stream",
          "text": [
            "313/313 [==============================] - 1s 2ms/step - loss: 0.0697 - accuracy: 0.9782\n",
            "test_acc: 0.9782000184059143\n"
          ],
          "name": "stdout"
        }
      ]
    },
    {
      "cell_type": "markdown",
      "metadata": {
        "id": "3NFJV40ipTHp"
      },
      "source": [
        "# Overfitting (переобучениe)\n",
        "\n",
        "train --- accuracy: 0.9887\n",
        "\n",
        "test ---- accuracy: 0.9782\n",
        "***\n",
        "Overfitting = 0.9887 - 0.9782 = 0.0105\n",
        "\n",
        "Overfitting = 0.0105\n",
        "***\n",
        "The test-set accuracy turns out to be 97.8 % — that’s quite a bit lower than the training set accuracy 98.8 %. Overfitting = 1%."
        "***\n",
        "***\n",
        "Overfitting means that the accuracy of the test sample exceeds the accuracy of the real one. Since this means that the model has taught neral networl so well that when it sees a real example, it loses its ability to finish teaching and it shows the result fully relying on the examples that it studied.",
      ]
    },
    {
      "cell_type": "markdown",
      "metadata": {
        "id": "d8hHYCVoqoU7"
      },
      "source": [
        "# Bilan\n",
        "Tout le code ensemble : "
      ]
    },
    {
      "cell_type": "code",
      "metadata": {
        "id": "JVnJbK6VqzMA"
      },
      "source": [
        "# 1\n",
        "from keras.datasets import mnist\n",
        "(train_images, train_labels), (test_images, test_labels) = mnist.load_data()\n",
        "\n",
        "# 2\n",
        "print(train_images.shape)\n",
        "print(len(train_labels))\n",
        "print(train_labels)\n",
        "\n",
        "# 3\n",
        "print(test_images.shape, \" - les image dans le test set, chaque image est 28x28 : \")\n",
        "print()\n",
        "print()\n",
        "print(test_labels, \" - montre que 1-ière image est 7, 2-ime est 2, etc. :\") \n",
        "print() \n",
        "print()\n",
        "print(\"Total dans test set il y a\", len(test_labels), \"labels\") \n",
        "\n",
        "# 4. Build the network :\n",
        "\n",
        "from keras import models\n",
        "from keras import layers\n",
        "\n",
        "network = models.Sequential()\n",
        "\n",
        "# 5. Layers :\n",
        "\n",
        "network.add(layers.Dense(512, activation='relu', input_shape=(28 * 28,)))\n",
        "network.add(layers.Dense(10, activation='softmax')) \n",
        "\n",
        "# 6. Prepare the network ready for training :\n",
        "\n",
        "network.compile(optimizer='rmsprop',\n",
        " loss='categorical_crossentropy',\n",
        " metrics=['accuracy'])\n",
        "\n",
        "# 7. Preparing the image data :\n",
        "\n",
        "train_images = train_images.reshape((60000, 28 * 28))\n",
        "train_images = train_images.astype('float32') / 255\n",
        "\n",
        "test_images = test_images.reshape((10000, 28 * 28))\n",
        "test_images = test_images.astype('float32') / 255 \n",
        "\n",
        "# 8. Preparing the labels by category :\n",
        "\n",
        "from keras.utils import to_categorical\n",
        "train_labels = to_categorical(train_labels)\n",
        "test_labels = to_categorical(test_labels)\n",
        "\n",
        "# 9. Train the network\n",
        "\n",
        "network.fit(train_images, train_labels, epochs=5, batch_size=128)\n",
        "\n",
        "# 10. Check that the model performs well on the test set\n",
        "\n",
        "test_loss, test_acc = network.evaluate(test_images, test_labels)\n",
        "print('test_acc:', test_acc)\n"
      ],
      "execution_count": null,
      "outputs": []
    },
    {
      "cell_type": "markdown",
      "metadata": {
        "id": "dFWW7TaCsygE"
      },
      "source": [
        "train --- accuracy: 0.9887\n",
        "\n",
        "test ---- accuracy: 0.9782\n",
        "\n",
        "Overfitting = 0.0105"
      ]
    }
  ]
}
